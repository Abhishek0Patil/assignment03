{
 "cells": [
  {
   "cell_type": "code",
   "execution_count": 3,
   "id": "61eb669c-0a76-46e7-b9e9-0f35a774f774",
   "metadata": {},
   "outputs": [],
   "source": [
    "l=[('Sachin Tendulkar', 34357), ('Ricky Ponting', 27483), ('Jack Kallis', 25534), ('Virat Kohli', 24936)]"
   ]
  },
  {
   "cell_type": "code",
   "execution_count": 4,
   "id": "cb413db4-41d7-4a80-a96e-d65dac23f284",
   "metadata": {},
   "outputs": [
    {
     "name": "stdout",
     "output_type": "stream",
     "text": [
      "[('Virat Kohli', 24936), ('Jack Kallis', 25534), ('Ricky Ponting', 27483), ('Sachin Tendulkar', 34357)]\n"
     ]
    }
   ],
   "source": [
    "sorted_players = sorted(l, key=lambda x: x[1])\n",
    "print(sorted_players)"
   ]
  },
  {
   "cell_type": "code",
   "execution_count": 11,
   "id": "7756e3c0-9ec2-420b-a77c-9b22d9604a71",
   "metadata": {},
   "outputs": [],
   "source": [
    "a=[1,2,3,4,5,6,7,8,9,10]"
   ]
  },
  {
   "cell_type": "code",
   "execution_count": 12,
   "id": "cb0104ba-a0de-4442-b59f-2589bb97acee",
   "metadata": {},
   "outputs": [
    {
     "data": {
      "text/plain": [
       "[1, 4, 9, 16, 25, 36, 49, 64, 81, 100]"
      ]
     },
     "execution_count": 12,
     "metadata": {},
     "output_type": "execute_result"
    }
   ],
   "source": [
    "list(map(lambda x:x**2,a))"
   ]
  },
  {
   "cell_type": "code",
   "execution_count": 13,
   "id": "722c0b02-8754-4e33-8e1e-0165ab6435b7",
   "metadata": {},
   "outputs": [
    {
     "name": "stdout",
     "output_type": "stream",
     "text": [
      "('1', '2', '3', '4', '5', '6', '7', '8', '9', '10')\n"
     ]
    }
   ],
   "source": [
    "str_tuple=tuple(map(lambda x: str(x),a))\n",
    "print(str_tuple)"
   ]
  },
  {
   "cell_type": "code",
   "execution_count": 14,
   "id": "54ed7a11-795b-4e89-8d7e-c9568c95488c",
   "metadata": {},
   "outputs": [],
   "source": [
    "from functools import reduce"
   ]
  },
  {
   "cell_type": "code",
   "execution_count": 15,
   "id": "f3f81876-5023-4ad1-a550-b3d78274905f",
   "metadata": {},
   "outputs": [],
   "source": [
    "num=list(range(1,26))"
   ]
  },
  {
   "cell_type": "code",
   "execution_count": 16,
   "id": "8cdf6f9c-2928-417c-b990-64fd0b3a4d2f",
   "metadata": {},
   "outputs": [],
   "source": [
    "product=reduce(lambda x , y : x*y , num)"
   ]
  },
  {
   "cell_type": "code",
   "execution_count": 17,
   "id": "55bd0df9-3ea4-4737-b90e-59a9bc834643",
   "metadata": {},
   "outputs": [
    {
     "name": "stdout",
     "output_type": "stream",
     "text": [
      "15511210043330985984000000\n"
     ]
    }
   ],
   "source": [
    "print(product)"
   ]
  },
  {
   "cell_type": "code",
   "execution_count": 18,
   "id": "082d3a8b-9342-4cb6-a4fd-9fbb0742a207",
   "metadata": {},
   "outputs": [],
   "source": [
    "b=[2,3,6,9,27,60,90,120,55,46]"
   ]
  },
  {
   "cell_type": "code",
   "execution_count": 21,
   "id": "e9a8197a-13c1-4cc4-a589-78fa1db4c5ed",
   "metadata": {},
   "outputs": [
    {
     "name": "stdout",
     "output_type": "stream",
     "text": [
      "[6, 60, 90, 120]\n"
     ]
    }
   ],
   "source": [
    "num=list(filter(lambda x : x%2==0 and x%3==0 ,b))\n",
    "print(num)"
   ]
  },
  {
   "cell_type": "code",
   "execution_count": 22,
   "id": "9d0a33f7-98cd-496e-88a5-fa3c4581bccd",
   "metadata": {},
   "outputs": [
    {
     "name": "stdout",
     "output_type": "stream",
     "text": [
      "['php', 'aba', 'radar', 'level']\n"
     ]
    }
   ],
   "source": [
    "strings = ['python', 'php', 'aba', 'radar', 'level']\n",
    "palindromes = list(filter(lambda x: x == x[::-1], strings))\n",
    "print(palindromes)"
   ]
  },
  {
   "cell_type": "code",
   "execution_count": null,
   "id": "cfecd8fa-7296-4653-ad98-15ff5b443d04",
   "metadata": {},
   "outputs": [],
   "source": []
  }
 ],
 "metadata": {
  "kernelspec": {
   "display_name": "Python 3 (ipykernel)",
   "language": "python",
   "name": "python3"
  },
  "language_info": {
   "codemirror_mode": {
    "name": "ipython",
    "version": 3
   },
   "file_extension": ".py",
   "mimetype": "text/x-python",
   "name": "python",
   "nbconvert_exporter": "python",
   "pygments_lexer": "ipython3",
   "version": "3.10.8"
  }
 },
 "nbformat": 4,
 "nbformat_minor": 5
}
